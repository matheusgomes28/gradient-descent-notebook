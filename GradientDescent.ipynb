{
 "cells": [
  {
   "cell_type": "code",
   "execution_count": 1,
   "id": "8bcbba64",
   "metadata": {},
   "outputs": [
    {
     "data": {
      "text/html": [
       "<div>\n",
       "<style scoped>\n",
       "    .dataframe tbody tr th:only-of-type {\n",
       "        vertical-align: middle;\n",
       "    }\n",
       "\n",
       "    .dataframe tbody tr th {\n",
       "        vertical-align: top;\n",
       "    }\n",
       "\n",
       "    .dataframe thead th {\n",
       "        text-align: right;\n",
       "    }\n",
       "</style>\n",
       "<table border=\"1\" class=\"dataframe\">\n",
       "  <thead>\n",
       "    <tr style=\"text-align: right;\">\n",
       "      <th></th>\n",
       "      <th>Species</th>\n",
       "      <th>Weight</th>\n",
       "      <th>Length1</th>\n",
       "      <th>Length2</th>\n",
       "      <th>Length3</th>\n",
       "      <th>Height</th>\n",
       "      <th>Width</th>\n",
       "    </tr>\n",
       "  </thead>\n",
       "  <tbody>\n",
       "    <tr>\n",
       "      <th>0</th>\n",
       "      <td>Bream</td>\n",
       "      <td>242.0</td>\n",
       "      <td>23.2</td>\n",
       "      <td>25.4</td>\n",
       "      <td>30.0</td>\n",
       "      <td>11.5200</td>\n",
       "      <td>4.0200</td>\n",
       "    </tr>\n",
       "    <tr>\n",
       "      <th>1</th>\n",
       "      <td>Bream</td>\n",
       "      <td>290.0</td>\n",
       "      <td>24.0</td>\n",
       "      <td>26.3</td>\n",
       "      <td>31.2</td>\n",
       "      <td>12.4800</td>\n",
       "      <td>4.3056</td>\n",
       "    </tr>\n",
       "    <tr>\n",
       "      <th>2</th>\n",
       "      <td>Bream</td>\n",
       "      <td>340.0</td>\n",
       "      <td>23.9</td>\n",
       "      <td>26.5</td>\n",
       "      <td>31.1</td>\n",
       "      <td>12.3778</td>\n",
       "      <td>4.6961</td>\n",
       "    </tr>\n",
       "    <tr>\n",
       "      <th>3</th>\n",
       "      <td>Bream</td>\n",
       "      <td>363.0</td>\n",
       "      <td>26.3</td>\n",
       "      <td>29.0</td>\n",
       "      <td>33.5</td>\n",
       "      <td>12.7300</td>\n",
       "      <td>4.4555</td>\n",
       "    </tr>\n",
       "    <tr>\n",
       "      <th>4</th>\n",
       "      <td>Bream</td>\n",
       "      <td>430.0</td>\n",
       "      <td>26.5</td>\n",
       "      <td>29.0</td>\n",
       "      <td>34.0</td>\n",
       "      <td>12.4440</td>\n",
       "      <td>5.1340</td>\n",
       "    </tr>\n",
       "    <tr>\n",
       "      <th>...</th>\n",
       "      <td>...</td>\n",
       "      <td>...</td>\n",
       "      <td>...</td>\n",
       "      <td>...</td>\n",
       "      <td>...</td>\n",
       "      <td>...</td>\n",
       "      <td>...</td>\n",
       "    </tr>\n",
       "    <tr>\n",
       "      <th>154</th>\n",
       "      <td>Smelt</td>\n",
       "      <td>12.2</td>\n",
       "      <td>11.5</td>\n",
       "      <td>12.2</td>\n",
       "      <td>13.4</td>\n",
       "      <td>2.0904</td>\n",
       "      <td>1.3936</td>\n",
       "    </tr>\n",
       "    <tr>\n",
       "      <th>155</th>\n",
       "      <td>Smelt</td>\n",
       "      <td>13.4</td>\n",
       "      <td>11.7</td>\n",
       "      <td>12.4</td>\n",
       "      <td>13.5</td>\n",
       "      <td>2.4300</td>\n",
       "      <td>1.2690</td>\n",
       "    </tr>\n",
       "    <tr>\n",
       "      <th>156</th>\n",
       "      <td>Smelt</td>\n",
       "      <td>12.2</td>\n",
       "      <td>12.1</td>\n",
       "      <td>13.0</td>\n",
       "      <td>13.8</td>\n",
       "      <td>2.2770</td>\n",
       "      <td>1.2558</td>\n",
       "    </tr>\n",
       "    <tr>\n",
       "      <th>157</th>\n",
       "      <td>Smelt</td>\n",
       "      <td>19.7</td>\n",
       "      <td>13.2</td>\n",
       "      <td>14.3</td>\n",
       "      <td>15.2</td>\n",
       "      <td>2.8728</td>\n",
       "      <td>2.0672</td>\n",
       "    </tr>\n",
       "    <tr>\n",
       "      <th>158</th>\n",
       "      <td>Smelt</td>\n",
       "      <td>19.9</td>\n",
       "      <td>13.8</td>\n",
       "      <td>15.0</td>\n",
       "      <td>16.2</td>\n",
       "      <td>2.9322</td>\n",
       "      <td>1.8792</td>\n",
       "    </tr>\n",
       "  </tbody>\n",
       "</table>\n",
       "<p>159 rows × 7 columns</p>\n",
       "</div>"
      ],
      "text/plain": [
       "    Species  Weight  Length1  Length2  Length3   Height   Width\n",
       "0     Bream   242.0     23.2     25.4     30.0  11.5200  4.0200\n",
       "1     Bream   290.0     24.0     26.3     31.2  12.4800  4.3056\n",
       "2     Bream   340.0     23.9     26.5     31.1  12.3778  4.6961\n",
       "3     Bream   363.0     26.3     29.0     33.5  12.7300  4.4555\n",
       "4     Bream   430.0     26.5     29.0     34.0  12.4440  5.1340\n",
       "..      ...     ...      ...      ...      ...      ...     ...\n",
       "154   Smelt    12.2     11.5     12.2     13.4   2.0904  1.3936\n",
       "155   Smelt    13.4     11.7     12.4     13.5   2.4300  1.2690\n",
       "156   Smelt    12.2     12.1     13.0     13.8   2.2770  1.2558\n",
       "157   Smelt    19.7     13.2     14.3     15.2   2.8728  2.0672\n",
       "158   Smelt    19.9     13.8     15.0     16.2   2.9322  1.8792\n",
       "\n",
       "[159 rows x 7 columns]"
      ]
     },
     "execution_count": 1,
     "metadata": {},
     "output_type": "execute_result"
    },
    {
     "data": {
      "image/png": "[encoded data removed]",
      "text/plain": [
       "<Figure size 432x288 with 1 Axes>"
      ]
     },
     "metadata": {
      "needs_background": "light"
     },
     "output_type": "display_data"
    }
   ],
   "source": [
    "%matplotlib inline\n",
    "import cv2\n",
    "import numpy as np\n",
    "import pandas as pd\n",
    "from matplotlib import pyplot as plt\n",
    "\n",
    "# from https://www.kaggle.com/aungpyaeap/fish-market\n",
    "fish_market_path = \"SOME/PATH/TO/fish.csv\"\n",
    "fish_csv = pd.read_csv(fish_market_path)\n",
    "\n",
    "# Get matrix of (width, height) for all \"Bream\"\n",
    "# Samples\n",
    "fish_stats = fish_csv[fish_csv[\"Species\"] == \"Bream\"]\n",
    "fish_stats = fish_stats[[\"Width\", \"Height\"]].to_numpy()\n",
    "\n",
    "# Scatter plot (width vs height) and display\n",
    "# the fish market dataframe\n",
    "plt.scatter(fish_stats[:,0], fish_stats[:, 1])\n",
    "fish_csv"
   ]
  },
  {
   "cell_type": "markdown",
   "id": "b0f2ce2b",
   "metadata": {},
   "source": [
    "## Constructing The Input Matrices\n",
    "\n",
    "we now construct $\\mathbf{X}$ and $\\mathbf{\\underset{\\sim}{y}}$ with the values from\n",
    "the fishmarket dataset."
   ]
  },
  {
   "cell_type": "code",
   "execution_count": 2,
   "id": "1bc630c4",
   "metadata": {},
   "outputs": [
    {
     "name": "stdout",
     "output_type": "stream",
     "text": [
      "Description of Xs:\n",
      "          0          1\n",
      "count  35.0  35.000000\n",
      "mean    1.0   5.427614\n",
      "std     0.0   0.721509\n",
      "min     1.0   4.020000\n",
      "25%     1.0   4.943400\n",
      "50%     1.0   5.280100\n",
      "75%     1.0   6.071600\n",
      "max     1.0   6.749700\n",
      "\n",
      "\n",
      "Description of Ys:\n",
      "               0\n",
      "count  35.000000\n",
      "mean   15.183211\n",
      "std     1.964707\n",
      "min    11.520000\n",
      "25%    13.958900\n",
      "50%    14.954400\n",
      "75%    16.360900\n",
      "max    18.957000\n",
      "\n",
      "\n"
     ]
    }
   ],
   "source": [
    "def get_full_sample_matrix(samples):\n",
    "    samples_matrix = samples.copy()\n",
    "    if samples.ndim == 1:\n",
    "        samples_matrix = samples_matrix.reshape(-1, 1)\n",
    "        \n",
    "    ones_vec = np.ones((samples_matrix.shape[0], 1), dtype=samples.dtype)\n",
    "    return np.hstack([ones_vec, samples_matrix])\n",
    "\n",
    "\n",
    "Xs = get_full_sample_matrix(fish_stats[:, 0])\n",
    "print(f\"Description of Xs:\\n{pd.DataFrame(Xs).describe()}\\n\\n\")\n",
    "Ys = fish_stats[:, 1].reshape((Xs.shape[0], 1))\n",
    "print(f\"Description of Ys:\\n{pd.DataFrame(Ys).describe()}\\n\\n\")\n"
   ]
  },
  {
   "cell_type": "markdown",
   "id": "2a520785",
   "metadata": {},
   "source": [
    "## Implementation Of The Gradient Descent\n",
    "\n",
    "The following cell will implement the gradient descent algorithm as\n",
    "per described in my post on how to implement linear regression with \n",
    "gradient descent in Python.\n",
    "\n",
    "In addition, it will use the `grad_desc` function to find the best\n",
    "line, and plot that prediction line with the original samples in the\n",
    "dataset."
   ]
  },
  {
   "cell_type": "code",
   "execution_count": 3,
   "id": "df09b7bf",
   "metadata": {},
   "outputs": [
    {
     "data": {
      "text/plain": [
       "<matplotlib.collections.PathCollection at 0x26b03f4ef70>"
      ]
     },
     "execution_count": 3,
     "metadata": {},
     "output_type": "execute_result"
    },
    {
     "data": {
      "image/png": "[encoded data removed]",
      "text/plain": [
       "<Figure size 432x288 with 1 Axes>"
      ]
     },
     "metadata": {
      "needs_background": "light"
     },
     "output_type": "display_data"
    }
   ],
   "source": [
    "def grad_desc(Xs, Ys, rate = 0.001, iterations = 100):\n",
    "    Ws = np.zeros((Xs.shape[1], 1))\n",
    "    for _ in range(iterations):\n",
    "        errors = Ys - Xs.dot(Ws)\n",
    "        grad = -(Xs.T).dot(errors)\n",
    "        Ws = Ws - (grad)*rate\n",
    "    return Ws\n",
    "\n",
    "# The vector w representing all\n",
    "# wieghts in the line\n",
    "w = grad_desc(Xs, Ys)\n",
    "\n",
    "# Predicting two ends of our line,\n",
    "# then drawing the line with the\n",
    "# original samples.\n",
    "line_ends = np.array([3.5, 7.0])\n",
    "prediction_Xs = get_full_sample_matrix(line_ends)\n",
    "prediction_Ys = (prediction_Xs).dot(w)\n",
    "\n",
    "plt.plot(line_ends, prediction_Ys, color=\"red\")\n",
    "plt.scatter(fish_stats[:,0], fish_stats[:, 1])"
   ]
  }
 ],
 "metadata": {
  "kernelspec": {
   "display_name": "Python 3 (ipykernel)",
   "language": "python",
   "name": "python3"
  },
  "language_info": {
   "codemirror_mode": {
    "name": "ipython",
    "version": 3
   },
   "file_extension": ".py",
   "mimetype": "text/x-python",
   "name": "python",
   "nbconvert_exporter": "python",
   "pygments_lexer": "ipython3",
   "version": "3.9.5"
  }
 },
 "nbformat": 4,
 "nbformat_minor": 5
}
